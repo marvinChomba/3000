{
  "cells": [
    {
      "cell_type": "code",
      "execution_count": 1,
      "id": "c3ec17ea",
      "metadata": {
        "id": "c3ec17ea"
      },
      "outputs": [],
      "source": [
        "import tensorflow as tf\n",
        "import os\n"
      ]
    },
    {
      "cell_type": "code",
      "execution_count": 2,
      "id": "98368654",
      "metadata": {
        "id": "98368654"
      },
      "outputs": [],
      "source": [
        "import numpy as np\n",
        "from matplotlib import pyplot as plt"
      ]
    },
    {
      "cell_type": "code",
      "execution_count": 3,
      "id": "1547aed3",
      "metadata": {
        "id": "1547aed3"
      },
      "outputs": [],
      "source": [
        "\n",
        "data = tf.keras.utils.image_dataset_from_directory('data3')\n"
      ]
    },
    {
      "cell_type": "code",
      "execution_count": 4,
      "id": "e7708fe6",
      "metadata": {
        "id": "e7708fe6"
      },
      "outputs": [],
      "source": [
        "data = data.map(lambda x,y: (x/255, y))\n",
        ""
      ]
    },
    {
      "cell_type": "code",
      "execution_count": 5,
      "id": "18c36a04",
      "metadata": {
        "id": "18c36a04"
      },
      "outputs": [],
      "source": [
        "\n",
        "\n",
        "scaled_iterator = data.as_numpy_iterator()\n",
        "\n",
        "\n",
        "batch = scaled_iterator.next() #images represented as numpy arrays\n",
        "\n",
        "# print(batch[0].shape)\n",
        "\n",
        "fig, ax = plt.subplots(ncols=4, figsize=(20,20))\n",
        "for idx, img in enumerate(batch[0][:4]):\n",
        "    ax[idx].imshow(img)\n",
        "    ax[idx].title.set_text(batch[1][idx])"
      ]
    },
    {
      "cell_type": "code",
      "execution_count": 6,
      "id": "2368cd88",
      "metadata": {
        "id": "2368cd88"
      },
      "outputs": [],
      "source": [
        "train_size = int(len(data)*.2) #to train\n",
        "val_size = int(len(data)*.4) #to evaluate while training\n",
        "test_size = int(len(data)*.4) #to test"
      ]
    },
    {
      "cell_type": "code",
      "execution_count": null,
      "id": "77b6480d",
      "metadata": {
        "id": "77b6480d"
      },
      "outputs": [],
      "source": []
    },
    {
      "cell_type": "code",
      "execution_count": 7,
      "id": "b3bfb13a",
      "metadata": {
        "id": "b3bfb13a"
      },
      "outputs": [],
      "source": [
        "train = data.take(train_size)\n",
        "val = data.skip(train_size).take(val_size)\n",
        "test = data.skip(train_size+val_size).take(test_size)"
      ]
    },
    {
      "cell_type": "code",
      "execution_count": 8,
      "id": "da13f28f",
      "metadata": {
        "id": "da13f28f"
      },
      "outputs": [],
      "source": [
        "from tensorflow.keras.models import Sequential\n",
        "from tensorflow.keras.layers import Conv2D, MaxPooling2D, Dense, Flatten, Dropout\n"
      ]
    },
    {
      "cell_type": "code",
      "execution_count": 9,
      "id": "2aea8e67",
      "metadata": {
        "id": "2aea8e67"
      },
      "outputs": [],
      "source": [
        "model = Sequential()\n"
      ]
    },
    {
      "cell_type": "code",
      "execution_count": 10,
      "id": "72c578e3",
      "metadata": {
        "id": "72c578e3"
      },
      "outputs": [],
      "source": [
        "model.add(Conv2D(32, (3,3), activation='relu', input_shape=(256,256,3)))\n",
        "model.add(MaxPooling2D(2,2))\n",
        "\n",
        "model.add(Conv2D(32, (3,3), activation='relu'))\n",
        "model.add(MaxPooling2D(2,2))\n",
        "\n",
        "model.add(Conv2D(16, (3,3), activation='relu'))\n",
        "model.add(MaxPooling2D(2,2))\n",
        "\n",
        "\n",
        "model.add(Flatten())\n",
        "model.add(Dense(128, activation='relu'))\n",
        "model.add(Dense(6, activation='softmax'))\n",
        "\n",
        "\n"
      ]
    },
    {
      "cell_type": "code",
      "execution_count": 11,
      "id": "31f14bac",
      "metadata": {
        "id": "31f14bac"
      },
      "outputs": [],
      "source": [
        "model.compile('adam', loss=\"sparse_categorical_crossentropy\", metrics=['accuracy'])\n"
      ]
    },
    {
      "cell_type": "code",
      "execution_count": 12,
      "id": "2bac7cb2",
      "metadata": {
        "id": "2bac7cb2"
      },
      "outputs": [],
      "source": [
        "model.summary()\n"
      ]
    },
    {
      "cell_type": "code",
      "execution_count": 14,
      "id": "1b0ea640",
      "metadata": {
        "id": "1b0ea640"
      },
      "outputs": [],
      "source": [
        "tensorboard_callback = tf.keras.callbacks.TensorBoard(log_dir=logdir) #to save model\n"
      ]
    },
    {
      "cell_type": "code",
      "execution_count": 15,
      "id": "b17be33e",
      "metadata": {
        "id": "b17be33e"
      },
      "outputs": [],
      "source": [
        "# hist = model.fit(train, epochs=3, validation_data=val,callbacks=[tensorboard_callback])\n",
        "hist = model.fit(train, epochs=10, validation_data=val)\n"
      ]
    },
    {
      "cell_type": "code",
      "execution_count": 16,
      "id": "684aea0a",
      "metadata": {
        "id": "684aea0a"
      },
      "outputs": [],
      "source": [
        "fig = plt.figure()\n",
        "plt.plot(hist.history['loss'], color='teal', label='loss')\n",
        "plt.plot(hist.history['val_loss'], color='orange', label='val_loss')\n",
        "fig.suptitle('Loss', fontsize=20)\n",
        "plt.legend(loc=\"upper left\")\n",
        "plt.show()"
      ]
    },
    {
      "cell_type": "code",
      "execution_count": 17,
      "id": "45e614b5",
      "metadata": {
        "id": "45e614b5"
      },
      "outputs": [],
      "source": [
        "fig = plt.figure()\n",
        "plt.plot(hist.history['accuracy'], color='teal', label='accuracy')\n",
        "plt.plot(hist.history['val_accuracy'], color='orange', label='val_accuracy')\n",
        "fig.suptitle('Accuracy', fontsize=20)\n",
        "plt.legend(loc=\"upper left\")\n",
        "plt.show()"
      ]
    },
    {
      "cell_type": "code",
      "execution_count": null,
      "id": "6aafa3e3",
      "metadata": {
        "id": "6aafa3e3"
      },
      "outputs": [],
      "source": []
    },
    {
      "cell_type": "code",
      "execution_count": 18,
      "id": "6fd0537e",
      "metadata": {
        "id": "6fd0537e"
      },
      "outputs": [],
      "source": [
        "from tensorflow.keras.metrics import Precision, Recall, BinaryAccuracy\n"
      ]
    },
    {
      "cell_type": "code",
      "execution_count": 19,
      "id": "2c5f8239",
      "metadata": {
        "id": "2c5f8239"
      },
      "outputs": [],
      "source": [
        "pre = Precision()\n",
        "re = Recall()\n",
        "acc = BinaryAccuracy()"
      ]
    },
    {
      "cell_type": "code",
      "execution_count": 20,
      "id": "7cf83cff",
      "metadata": {
        "id": "7cf83cff"
      },
      "outputs": [],
      "source": [
        "for batch in test.as_numpy_iterator():\n",
        "    X, y = batch\n",
        "    predict_x=model.predict(X)\n",
        "#     yhat = model.predict_classes(X)\n",
        "    yhat=np.argmax(predict_x,axis=1)\n",
        "\n",
        "    pre.update_state(y, yhat)\n",
        "    re.update_state(y, yhat)\n",
        "#     acc.update_state(y, yhat)"
      ]
    },
    {
      "cell_type": "code",
      "execution_count": 21,
      "id": "214f1273",
      "metadata": {
        "id": "214f1273"
      },
      "outputs": [],
      "source": [
        "print(f'Precision:{pre.result().numpy()}, Recall: {re.result().numpy()},Accuracy: {acc.result().numpy()}')\n"
      ]
    }
  ],
  "metadata": {
    "kernelspec": {
      "display_name": "Python 3 (ipykernel)",
      "language": "python",
      "name": "python3"
    },
    "language_info": {
      "codemirror_mode": {
        "name": "ipython",
        "version": 3
      },
      "file_extension": ".py",
      "mimetype": "text/x-python",
      "name": "python",
      "nbconvert_exporter": "python",
      "pygments_lexer": "ipython3",
      "version": "3.10.10"
    },
    "colab": {
      "provenance": []
    }
  },
  "nbformat": 4,
  "nbformat_minor": 5
}